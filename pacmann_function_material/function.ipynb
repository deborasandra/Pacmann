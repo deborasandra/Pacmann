{
 "cells": [
  {
   "cell_type": "markdown",
   "metadata": {},
   "source": [
    "### 1A.\n",
    "Buatlah **modul lingkaran dengan nama `lingkaran.py`** yang berisi fungsi perhitungan luas lingkaran dan fungsi perhitungan keliling lingkaran.\n",
    "\n",
    "Ketika nantinya fungsi dipanggil, user akan diminta memasukkan nilai jari-jari, selanjutnya dari input jari-jari tersebut fungsi akan melakukan perhitungan bangun ruang lingkaran.\n",
    "\n",
    "Kemudian simpan modul tersebut agar nantinya dapat digunakan kembali.\n",
    "```\n",
    "Catatan :\n",
    " - Anda dapat menggunakan input() agar user dapat memasukkan nilai jari-jari.\n",
    " - Rumus luas lingkaran = phi x jari-jari lingkaran x jari-jari lingkaran\n",
    " - Rumus keliling lingkaran = 2 x phi x jari-jari lingkaran\n",
    " - Selain itu, nda dapat memanfaatkan module math yang merupakan module bawaan python untuk menginisialisasi phi tanpa harus mendefinisikannya secara manual.\n",
    " - Untuk mengimpor dan mengakses module math dan fungsi phi, anda dapat mengimplementasikan materi import yang sebelumnya dibahas di pertemuan 8\n",
    " - Gunakan return untuk menyimpan nilai.\n",
    "\n",
    "```"
   ]
  },
  {
   "cell_type": "markdown",
   "metadata": {},
   "source": [
    "### 1B.\n",
    "Selanjutnya, buatlah **modul persegi panjang dengan nama `persegi_panjang.py`** yang berisi fungsi perhitungan luas persegi panjang dan fungsi perhitungan keliling pesegi panjang.\n",
    "\n",
    "Ketika nantinya fungsi dipanggil, user akan diminta memasukkan nilai panjang dan lebar. Selanjutnya dari input tersebut, fungsi akan melakukan perhitungan bangun ruang persegi panjang.\n",
    "\n",
    "Kemudian simpan modul tersebut agar nantinya dapat digunakan kembali.\n",
    "```\n",
    "Catatan :\n",
    " - Anda dapat menggunakan input() agar user dapat memasukkan nilai panjang dan lebar dari persegi panjang.\n",
    " - Gunakan return untuk menyimpan nilai.\n",
    "\n",
    "```"
   ]
  },
  {
   "cell_type": "markdown",
   "metadata": {},
   "source": [
    "Selanjutnya, buatlah modul segitiga dengan nama segitiga.py yang berisi fungsi perhitungan luas segitiga dan fungsi perhitungan keliling segitiga.\n",
    "\n",
    "Ketika nantinya fungsi dipanggil, user akan diminta memasukkan nilai, selanjutnya dari input tersebut fungsi akan melakukan perhitungan bangun ruang segitiga.\n",
    "\n",
    "Kemudian simpan modul tersebut agar nantinya dapat digunakan kembali.\n",
    "\n",
    "Catatan :\n",
    " - Anda dapat menggunakan input() agar user dapat memasukkan nilai alas dan tinggi dari segitiga.\n",
    " - Untuk menghitung luas segi tiga, user diminta untuk memasukkan nilai alas dan nilai tinggi.\n",
    " - Untuk menghitung keliling segi tiga, user akan diminta untuk memasukkan nilai sisi 1, sisi 2, dan sisi 3 sebuah segi tiga.\n",
    " - Gunakan return untuk menyimpan nilai."
   ]
  },
  {
   "cell_type": "markdown",
   "metadata": {},
   "source": [
    "### 1D.\n",
    "Setelah semua modul bangun ruang telah disimpan. Buatlah file utama yang dapat menghitung bangun datar sesuai dengan keinginan dan pilihan user.\n",
    "\n",
    "* User dibebaskan untuk dapat menghitung bangun datar apa saja. Sebagai contoh ketika program dijalankan, jika user menginputkan segitiga dan keliling, maka selanjutnya program akan diarahkan untuk mengakses fungsi keliling dari modul segitiga agar dapat menghitung keliling segitiga.\n",
    "* Untuk mengakses semua modul bangun ruang, anda dapat mengimpor modul terlebih dahulu.\n",
    "* Anda dapat memanfaatkan  input() dan branching untuk mengembangkan program.\n",
    "\n",
    "```\n",
    "🔽 Contoh output yang diharapkan ketika program dijalankan🔽\n",
    "  Apa yang ingin Hitung (lingkaran/persegi panjang/segitiga) : segitiga\n",
    "  luas/keliling : keliling\n",
    "  Masukkan sisi 1: 2\n",
    "  Masukkan sisi 2: 3\n",
    "  Masukkan sisi 3: 4\n",
    "  9.0"
   ]
  },
  {
   "cell_type": "markdown",
   "metadata": {},
   "source": [
    "## Case 2 : Perhitungan bunga\n",
    "* Anda diminta untuk melanjutkan modul python dari pengerjaan rekan se-tim anda sebelumnya, akan tetapi penamaan modul dan fungsi yang dibuat rekan anda sangat panjang. Untuk itu, ketika ingin mengakses modul, anda berencana untuk mengubah nama dan fungsi modul di file utama untuk mempermudah.\n",
    "* Selain itu, anda juga diminta untuk membuat fungsi baru di modul tersebut untuk menghitung perhitungan angsuran berdasarkan bunga flat. Dengan parameter yang digunakan  : besaran biaya yang dipinjam dan suku bunga yang diberlakukan (dalam bentuk persen).\n",
    "\n"
   ]
  },
  {
   "cell_type": "markdown",
   "metadata": {},
   "source": [
    "### 2A.\n",
    "Menambahkan fungsi bunga_flat pada modul **perhitungan_angsuran_per_bulan_klien.py**\n",
    "```\n",
    "Rumus yang dapat digunakan pada bunga flat adalah :\n",
    " - angsuran berdasarkan bunga flat  = pokok pinjaman + bunga perbulan\n",
    " - pokok pinjaman = biaya yang dipinjam : jumlah bulan dalam setahun\n",
    " - bunga perbulan = bunga pertahun : jumlah bulan dalam setahun\n",
    " - bunga pertahun = biaya dipinjam x suku bunga\n",
    "```"
   ]
  },
  {
   "cell_type": "markdown",
   "metadata": {},
   "source": [
    "\n",
    "### 2B.\n",
    "Kemudian anda akan mencoba mengimpor modul tersebut di file utama.\n",
    "\n",
    "Karena penamaan file modul terlalu panjang. Anda berencana mengubah nama modul menjadi **perhitungan_bunga** agar nama modul lebih sederhana ketika dipanggil di file utama"
   ]
  },
  {
   "cell_type": "code",
   "execution_count": null,
   "metadata": {},
   "outputs": [],
   "source": []
  },
  {
   "cell_type": "code",
   "execution_count": null,
   "metadata": {},
   "outputs": [],
   "source": []
  },
  {
   "cell_type": "code",
   "execution_count": null,
   "metadata": {},
   "outputs": [],
   "source": []
  },
  {
   "cell_type": "code",
   "execution_count": 1,
   "metadata": {},
   "outputs": [
    {
     "name": "stdout",
     "output_type": "stream",
     "text": [
      "2\n"
     ]
    }
   ],
   "source": []
  },
  {
   "cell_type": "code",
   "execution_count": null,
   "metadata": {},
   "outputs": [],
   "source": []
  },
  {
   "cell_type": "markdown",
   "metadata": {},
   "source": [
    "### 3A.\n",
    "Anda diberikan dictionary yang berisi :\n",
    "  * biaya produksi per unit(rupiah) = 35000\n",
    "  * harga jual per unit(rupiah) = 50000\n",
    "  * jumlah produk = 1200\n",
    "  * Persediaan sisa = 100\n",
    "\n",
    "Dictionary ini sebagai nilai yang akan digunakan untuk perhitungan keuntungan dan harga pokok penjualan.\n",
    "\n",
    "Buatlah dictionary tersebut di dalam file utama. Dan simpan file tersebut.\n"
   ]
  },
  {
   "cell_type": "markdown",
   "metadata": {},
   "source": [
    "### 3B.\n",
    "Untuk dapat mengetahui laporan dan mempermudah perhitungan keuntungan dan harga pokok penjualan. Maka dibuatlah sebuah modul baru **produksi** yang berisi **2 fungsi berbeda**.\n",
    "\n",
    "Fungsi pertama dapat menghitung **keuntungan penjualan** dan fungsi kedua dapat menghitung **harga pokok penjualan** dari dictionary yang telah diberikan sebelumnya.\n",
    "```\n",
    "Catatan :\n",
    " - Keuntungan penjualan = (jumlah produk x harga jual ) - (jumlah produk x biaya produksi)\n",
    " - Harga pokok penjualan = biaya produksi + jumlah produk - persediaan sisa\n",
    " ```"
   ]
  },
  {
   "cell_type": "markdown",
   "metadata": {},
   "source": [
    "### 3C.\n",
    "Kemudian, setelah modul produksi disimpan. Akses semua fungsi dari modul produksi melalui file utama yang telah dibuat sebelumnya."
   ]
  },
  {
   "cell_type": "code",
   "execution_count": null,
   "metadata": {},
   "outputs": [],
   "source": []
  },
  {
   "cell_type": "markdown",
   "metadata": {},
   "source": [
    "## Case 4 : Perhitungan usaha\n",
    "Sebuah perusahaan sedang merintis usaha yang memproduksi bahan pangan. Untuk mempermudah perhitungan usaha, Maka dibuatlah program perhitungan usaha.\n",
    "\n",
    "Anda diminta untuk membuat modul python **usaha.py** yang berisi **fungsi beban usaha** dan **fungsi laba bersih** agar dapat digunakan di file utama program perhitungan usaha.\n",
    "\n",
    "\n"
   ]
  },
  {
   "cell_type": "markdown",
   "metadata": {},
   "source": [
    "### 4A.\n",
    "Buatlah fungsi beban usaha dengan argumen yang akan di inputkan adalah beban operasional dan beban non-operasional\n",
    "\n",
    "```\n",
    "Catatan :\n",
    "Rumus beban usaha : Beban operasional + beban non operasional\n",
    "\n",
    "🔽 Contoh output yang diharapkan 🔽\n",
    "Beban usaha yang dikeluarkan sebesar :     \n",
    "13500000\n",
    "```"
   ]
  },
  {
   "cell_type": "markdown",
   "metadata": {},
   "source": [
    "### 4B.\n",
    "\n",
    "Kemudian, anda ingin mengembangkan modul tersebut. Maka anda berencana membuat fungsi baru yang dapat menghitung laba bersih suatu penjualan.\n",
    "\n",
    "```\n",
    "Catatan :\n",
    "Rumus laba bersih = (biaya operasional + biaya non operasional) - beban usaha\n",
    "\n",
    "🔽 Contoh output yang diharapkan 🔽\n",
    "Laba bersih yang dihasilkan sebesar :     \n",
    "20000000\n",
    "```\n",
    "\n",
    "\n",
    "\n",
    "\n"
   ]
  },
  {
   "cell_type": "markdown",
   "metadata": {},
   "source": [
    "### 4D.\n",
    "\n",
    "Panggil fungsi **beban_usaha** jika :  \n",
    "Beban operasional yang dikeluarkan adalah Rp. 10.000.000 dan beban non operasionalnya adalah Rp. 3.500.000\n",
    "\n",
    "\n",
    "\n",
    "\n",
    "\n"
   ]
  },
  {
   "cell_type": "markdown",
   "metadata": {},
   "source": [
    "### 4E.\n",
    "\n",
    "Panggil fungsi **laba_bersih** jika :  \n",
    "Laba kotornya adalah Rp. 15.000.000, beban operasional yang dikeluarkan Rp. 7.000.000 dan beban non operasionalnya adalah Rp. 2.000.000\n",
    "\n",
    "\n",
    "\n",
    "\n",
    "\n"
   ]
  },
  {
   "cell_type": "markdown",
   "metadata": {},
   "source": []
  }
 ],
 "metadata": {
  "kernelspec": {
   "display_name": "Python 3",
   "language": "python",
   "name": "python3"
  },
  "language_info": {
   "codemirror_mode": {
    "name": "ipython",
    "version": 3
   },
   "file_extension": ".py",
   "mimetype": "text/x-python",
   "name": "python",
   "nbconvert_exporter": "python",
   "pygments_lexer": "ipython3",
   "version": "3.12.4"
  }
 },
 "nbformat": 4,
 "nbformat_minor": 2
}
