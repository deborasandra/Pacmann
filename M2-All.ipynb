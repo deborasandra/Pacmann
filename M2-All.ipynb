{
 "cells": [
  {
   "cell_type": "markdown",
   "metadata": {},
   "source": [
    "Connected to Python 3.13.2"
   ]
  },
  {
   "cell_type": "code",
   "execution_count": null,
   "id": "4fe93120-5b79-4341-85bd-02cd5a7a72c7",
   "metadata": {},
   "outputs": [
    {
     "name": "stdout",
     "output_type": "stream",
     "text": [
      "Pajak Tahun Pertama mobil Pak Samsul = Rp 24,493,000.0\n"
     ]
    }
   ],
   "source": [
    "harga_jual = 200_000_000\n",
    "bbnkb = (10/100) * harga_jual\n",
    "pkb = (2/100) * harga_jual\n",
    "swdkllj = 143_000\n",
    "tnkb = 100_000\n",
    "penerbitan_stnk = 200_000\n",
    "biaya_admin = 50_000\n",
    "pajak_tahun_pertama = bbnkb + pkb + swdkllj + tnkb + penerbitan_stnk + biaya_admin\n",
    "#Print Hasil\n",
    "print(f'Pajak Tahun Pertama mobil Pak Samsul = Rp {pajak_tahun_pertama:,}')"
   ]
  },
  {
   "cell_type": "code",
   "execution_count": null,
   "id": "98ad4a28-7e97-4c9d-919b-b1a47886954c",
   "metadata": {},
   "outputs": [
    {
     "name": "stdout",
     "output_type": "stream",
     "text": [
      "Pajak Tahun Pertama mobil Pak Samsul = Rp 24,493,000.0\n"
     ]
    }
   ],
   "source": [
    "harga_jual = 200_000_000\n",
    "bbnkb = (10/100) * harga_jual\n",
    "pkb = (2/100) * harga_jual\n",
    "swdkllj = 143_000\n",
    "tnkb = 100_000\n",
    "penerbitan_stnk = 200_000\n",
    "biaya_admin = 50_000\n",
    "pajak_tahun_pertama = bbnkb + pkb + swdkllj + tnkb + penerbitan_stnk + biaya_admin\n",
    "#Print Hasil\n",
    "print(f'Pajak Tahun Pertama mobil Pak Samsul = Rp {pajak_tahun_pertama:,}')"
   ]
  },
  {
   "cell_type": "code",
   "execution_count": null,
   "id": "c46d90cd-e1b5-4b66-8edf-4e4610a4a27e",
   "metadata": {},
   "outputs": [
    {
     "name": "stdout",
     "output_type": "stream",
     "text": [
      "Pajak Tahun Pertama mobil Pak Samsul = Rp 24,493,000.0\n"
     ]
    }
   ],
   "source": [
    "harga_jual = 200_000_000\n",
    "bbnkb = (10/100) * harga_jual\n",
    "pkb = (2/100) * harga_jual\n",
    "swdkllj = 143_000\n",
    "tnkb = 100_000\n",
    "penerbitan_stnk = 200_000\n",
    "biaya_admin = 50_000\n",
    "pajak_tahun_pertama = bbnkb + pkb + swdkllj + tnkb + penerbitan_stnk + biaya_admin\n",
    "#Print Hasil\n",
    "print(f'Pajak Tahun Pertama mobil Pak Samsul = Rp {pajak_tahun_pertama:,}')"
   ]
  },
  {
   "cell_type": "code",
   "execution_count": null,
   "id": "df0070b8-10c1-464d-a464-7d834051ccdd",
   "metadata": {},
   "outputs": [
    {
     "ename": "NameError",
     "evalue": "name 'total_upah_kary_all' is not defined",
     "output_type": "error",
     "traceback": [
      "\u001b[31m---------------------------------------------------------------------------\u001b[39m",
      "\u001b[31mNameError\u001b[39m                                 Traceback (most recent call last)",
      "\u001b[36mCell\u001b[39m\u001b[36m \u001b[39m\u001b[32mIn[2]\u001b[39m\u001b[32m, line 2\u001b[39m\n\u001b[32m      1\u001b[39m jml_kary = \u001b[32m5\u001b[39m\n\u001b[32m----> \u001b[39m\u001b[32m2\u001b[39m rata_rata_upah = \u001b[43mtotal_upah_kary_all\u001b[49m / jml_kary\n\u001b[32m      3\u001b[39m \u001b[38;5;28mprint\u001b[39m(\u001b[33mf\u001b[39m\u001b[33m'\u001b[39m\u001b[33mRata - rata upah karyawan Perusahaan B adalah = Rp \u001b[39m\u001b[38;5;132;01m{\u001b[39;00mrata_rata_upah\u001b[38;5;132;01m:\u001b[39;00m\u001b[33m,\u001b[39m\u001b[38;5;132;01m}\u001b[39;00m\u001b[33m'\u001b[39m)\n",
      "\u001b[31mNameError\u001b[39m: name 'total_upah_kary_all' is not defined"
     ]
    }
   ],
   "source": [
    "jml_kary = 5\n",
    "rata_rata_upah = total_upah_kary_all / jml_kary\n",
    "print(f'Rata - rata upah karyawan Perusahaan B adalah = Rp {rata_rata_upah:,}')"
   ]
  },
  {
   "cell_type": "code",
   "execution_count": null,
   "id": "7af58d32-b61f-4d39-a4e9-b83c379cf781",
   "metadata": {},
   "outputs": [
    {
     "name": "stdout",
     "output_type": "stream",
     "text": [
      "Pajak Tahun Pertama mobil Pak Samsul = Rp 24,493,000.0\n"
     ]
    }
   ],
   "source": [
    "harga_jual = 200_000_000\n",
    "bbnkb = (10/100) * harga_jual\n",
    "pkb = (2/100) * harga_jual\n",
    "swdkllj = 143_000\n",
    "tnkb = 100_000\n",
    "penerbitan_stnk = 200_000\n",
    "biaya_admin = 50_000\n",
    "pajak_tahun_pertama = bbnkb + pkb + swdkllj + tnkb + penerbitan_stnk + biaya_admin\n",
    "#Print Hasil\n",
    "print(f'Pajak Tahun Pertama mobil Pak Samsul = Rp {pajak_tahun_pertama:,}')"
   ]
  },
  {
   "cell_type": "code",
   "execution_count": null,
   "metadata": {},
   "outputs": [
    {
     "name": "stdout",
     "output_type": "stream",
     "text": [
      "hello\n"
     ]
    }
   ],
   "source": [
    "print(\"hello\")"
   ]
  }
 ],
 "metadata": {
  "language_info": {
   "codemirror_mode": {
    "name": "ipython",
    "version": 3
   },
   "file_extension": ".py",
   "mimetype": "text/x-python",
   "name": "python",
   "nbconvert_exporter": "python",
   "pygments_lexer": "ipython3",
   "version": 3
  }
 },
 "nbformat": 4,
 "nbformat_minor": 2
}
